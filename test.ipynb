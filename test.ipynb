{
 "cells": [
  {
   "cell_type": "code",
   "execution_count": 1,
   "id": "6f6483db-266d-4ab7-998b-7dbcef8b27f1",
   "metadata": {},
   "outputs": [],
   "source": [
    "import CONFIG"
   ]
  },
  {
   "cell_type": "code",
   "execution_count": 2,
   "id": "12b858b9-61ff-43e1-adc4-b406d766fd71",
   "metadata": {},
   "outputs": [],
   "source": [
    "MYSTERY_CIRCLE_LIST = CONFIG.MYSTERY_CIRCLE_LIST"
   ]
  },
  {
   "cell_type": "code",
   "execution_count": 3,
   "id": "e67c75b9-b5b8-44e5-a823-8987739cf766",
   "metadata": {},
   "outputs": [
    {
     "data": {
      "text/plain": [
       "['images/Amulets/m1.png',\n",
       " '/images/Amulets/m2.png',\n",
       " 'images/Amulets/m3.png',\n",
       " '/images/Amulets/m4.png',\n",
       " 'images/Amulets/m5.png',\n",
       " '/images/Amulets/m6.png']"
      ]
     },
     "execution_count": 3,
     "metadata": {},
     "output_type": "execute_result"
    }
   ],
   "source": [
    "MYSTERY_CIRCLE_LIST"
   ]
  },
  {
   "cell_type": "code",
   "execution_count": 4,
   "id": "b9c70720-ec5e-45d3-b991-f07e919e9a01",
   "metadata": {},
   "outputs": [],
   "source": [
    "m = MYSTERY_CIRCLE_LIST[11 % 6 - 1]"
   ]
  },
  {
   "cell_type": "code",
   "execution_count": 5,
   "id": "f2991f54-7dfb-45b6-987b-aa0cd6ff84a2",
   "metadata": {},
   "outputs": [
    {
     "data": {
      "text/plain": [
       "'images/Amulets/m5.png'"
      ]
     },
     "execution_count": 5,
     "metadata": {},
     "output_type": "execute_result"
    }
   ],
   "source": [
    "m"
   ]
  },
  {
   "cell_type": "code",
   "execution_count": null,
   "id": "4b3057ca-09a4-4155-8ab1-97725bd2f319",
   "metadata": {},
   "outputs": [],
   "source": []
  }
 ],
 "metadata": {
  "kernelspec": {
   "display_name": "Python 3 (ipykernel)",
   "language": "python",
   "name": "python3"
  },
  "language_info": {
   "codemirror_mode": {
    "name": "ipython",
    "version": 3
   },
   "file_extension": ".py",
   "mimetype": "text/x-python",
   "name": "python",
   "nbconvert_exporter": "python",
   "pygments_lexer": "ipython3",
   "version": "3.9.13"
  }
 },
 "nbformat": 4,
 "nbformat_minor": 5
}
